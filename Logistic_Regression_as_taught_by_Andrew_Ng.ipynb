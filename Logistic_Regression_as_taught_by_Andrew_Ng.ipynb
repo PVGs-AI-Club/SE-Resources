{
  "nbformat": 4,
  "nbformat_minor": 0,
  "metadata": {
    "coursera": {
      "course_slug": "neural-networks-deep-learning",
      "graded_item_id": "XaIWT",
      "launcher_item_id": "zAgPl"
    },
    "kernelspec": {
      "display_name": "Python 3",
      "language": "python",
      "name": "python3"
    },
    "language_info": {
      "codemirror_mode": {
        "name": "ipython",
        "version": 3
      },
      "file_extension": ".py",
      "mimetype": "text/x-python",
      "name": "python",
      "nbconvert_exporter": "python",
      "pygments_lexer": "ipython3",
      "version": "3.6.2"
    },
    "colab": {
      "name": "Logistic Regression as taught by Andrew Ng.ipynb",
      "provenance": []
    }
  },
  "cells": [
    {
      "cell_type": "markdown",
      "metadata": {
        "id": "BYSyYKnmE1WK"
      },
      "source": [
        "# Logistic Regression as taught by Andrew Ng\n",
        "\n",
        "You will build a logistic regression classifier to recognize  cats. This notebook will step you through how to do this with a Neural Network mindset, and so will also hone your intuitions about deep learning.\n",
        "\n",
        "**You will learn to:**\n",
        "- Build the general architecture of a learning algorithm, including:\n",
        "    - Initializing parameters\n",
        "    - Calculating the cost function and its gradient\n",
        "    - Using an optimization algorithm (gradient descent) \n",
        "- Gather all three functions above into a main model function, in the right order."
      ]
    },
    {
      "cell_type": "markdown",
      "metadata": {
        "id": "HfzVh9v_E1Wc"
      },
      "source": [
        "## 1 - Packages ##\n",
        "\n",
        "First, let's run the cell below to import all the packages that you will need during this assignment. \n",
        "- [numpy](www.numpy.org) is the fundamental package for scientific computing with Python.\n",
        "- [h5py](http://www.h5py.org) is a common package to interact with a dataset that is stored on an H5 file.\n",
        "- [matplotlib](http://matplotlib.org) is a famous library to plot graphs in Python.\n",
        "- [PIL](http://www.pythonware.com/products/pil/) and [scipy](https://www.scipy.org/) are used here to test your model with your own picture at the end."
      ]
    },
    {
      "cell_type": "code",
      "metadata": {
        "colab": {
          "base_uri": "https://localhost:8080/"
        },
        "id": "U-3ZW9_yKG1W",
        "outputId": "53c010fe-b6df-452f-9165-3f919f166651"
      },
      "source": [
        "!git clone https://github.com/ehabhamdy/Logistic-Regression-with-a-Neural-Network-mindset"
      ],
      "execution_count": null,
      "outputs": [
        {
          "output_type": "stream",
          "name": "stdout",
          "text": [
            "Cloning into 'Logistic-Regression-with-a-Neural-Network-mindset'...\n",
            "remote: Enumerating objects: 22, done.\u001b[K\n",
            "remote: Total 22 (delta 0), reused 0 (delta 0), pack-reused 22\u001b[K\n",
            "Unpacking objects: 100% (22/22), done.\n"
          ]
        }
      ]
    },
    {
      "cell_type": "code",
      "metadata": {
        "id": "06HvMgUMLLtG"
      },
      "source": [
        "# import sys\n",
        "# sys.path.append('/content/Logistic-Regression-with-a-Neural-Network-mindset')"
      ],
      "execution_count": null,
      "outputs": []
    },
    {
      "cell_type": "code",
      "metadata": {
        "id": "TlSxD-V-E1Wg"
      },
      "source": [
        "import numpy as np\n",
        "import matplotlib.pyplot as plt\n",
        "import h5py\n",
        "import scipy\n",
        "from PIL import Image\n",
        "from scipy import ndimage\n",
        "\n",
        "%matplotlib inline"
      ],
      "execution_count": null,
      "outputs": []
    },
    {
      "cell_type": "markdown",
      "metadata": {
        "collapsed": true,
        "id": "pcVKeiTzE1Wl"
      },
      "source": [
        "## 2 - Overview of the Problem set ##\n",
        "\n",
        "**Problem Statement**: You are given a dataset (\"data.h5\") containing:\n",
        "    - a training set of m_train images labeled as cat (y=1) or non-cat (y=0)\n",
        "    - a test set of m_test images labeled as cat or non-cat\n",
        "    - each image is of shape (num_px, num_px, 3) where 3 is for the 3 channels (RGB). Thus, each image is square (height = num_px) and (width = num_px).\n",
        "\n",
        "You will build a simple image-recognition algorithm that can correctly classify pictures as cat or non-cat.\n",
        "\n",
        "Let's get more familiar with the dataset. Load the data by running the following code."
      ]
    },
    {
      "cell_type": "code",
      "metadata": {
        "id": "Ai1HxfS1L8YF"
      },
      "source": [
        "#load data \n",
        "import numpy as np\n",
        "import h5py\n",
        "    \n",
        "    \n",
        "def load_dataset():\n",
        "    train_path = '/content/Logistic-Regression-with-a-Neural-Network-mindset/datasets/train_catvnoncat.h5'\n",
        "    test_path = '/content/Logistic-Regression-with-a-Neural-Network-mindset/datasets/test_catvnoncat.h5'\n",
        "    train_dataset = h5py.File(train_path, \"r\")\n",
        "    train_set_x_orig = np.array(train_dataset[\"train_set_x\"][:]) # your train set features\n",
        "    train_set_y_orig = np.array(train_dataset[\"train_set_y\"][:]) # your train set labels\n",
        "\n",
        "    test_dataset = h5py.File(test_path, \"r\")\n",
        "    test_set_x_orig = np.array(test_dataset[\"test_set_x\"][:]) # your test set features\n",
        "    test_set_y_orig = np.array(test_dataset[\"test_set_y\"][:]) # your test set labels\n",
        "\n",
        "    classes = np.array(test_dataset[\"list_classes\"][:]) # the list of classes\n",
        "    \n",
        "    train_set_y_orig = train_set_y_orig.reshape((1, train_set_y_orig.shape[0]))\n",
        "    test_set_y_orig = test_set_y_orig.reshape((1, test_set_y_orig.shape[0]))\n",
        "    \n",
        "    return train_set_x_orig, train_set_y_orig, test_set_x_orig, test_set_y_orig, classes"
      ],
      "execution_count": null,
      "outputs": []
    },
    {
      "cell_type": "code",
      "metadata": {
        "id": "bCMZ1mE2E1Wo"
      },
      "source": [
        "# Loading the data (cat/non-cat)\n",
        "train_set_x_orig, train_set_y, test_set_x_orig, test_set_y, classes = load_dataset()"
      ],
      "execution_count": null,
      "outputs": []
    },
    {
      "cell_type": "markdown",
      "metadata": {
        "id": "OrK0P8wYE1Wq"
      },
      "source": [
        "We added \"_orig\" at the end of image datasets (train and test) because we are going to preprocess them. After preprocessing, we will end up with train_set_x and test_set_x (the labels train_set_y and test_set_y don't need any preprocessing).\n",
        "\n",
        "Each line of your train_set_x_orig and test_set_x_orig is an array representing an image. You can visualize an example by running the following code. Feel free also to change the `index` value and re-run to see other images. "
      ]
    },
    {
      "cell_type": "code",
      "metadata": {
        "id": "fSH0M056E1Wu",
        "colab": {
          "base_uri": "https://localhost:8080/",
          "height": 285
        },
        "outputId": "973d75bf-9482-46e5-e119-5a933cb97c72"
      },
      "source": [
        "# Example of a picture\n",
        "index = 25\n",
        "plt.imshow(train_set_x_orig[index])\n",
        "print (\"y = \" + str(train_set_y[:, index]) + \", it's a '\" + classes[np.squeeze(train_set_y[:, index])].decode(\"utf-8\") +  \"' picture.\")"
      ],
      "execution_count": null,
      "outputs": [
        {
          "output_type": "stream",
          "name": "stdout",
          "text": [
            "y = [1], it's a 'cat' picture.\n"
          ]
        },
        {
          "output_type": "display_data",
          "data": {
            "image/png": "[encoded data removed]",
            "text/plain": [
              "<Figure size 432x288 with 1 Axes>"
            ]
          },
          "metadata": {
            "needs_background": "light"
          }
        }
      ]
    },
    {
      "cell_type": "markdown",
      "metadata": {
        "id": "TVEJ7yi7E1W0"
      },
      "source": [
        "Many software bugs in deep learning come from having matrix/vector dimensions that don't fit. If you can keep your matrix/vector dimensions straight you will go a long way toward eliminating many bugs. \n",
        "\n",
        "**Exercise:** Find the values for:\n",
        "    - m_train (number of training examples)\n",
        "    - m_test (number of test examples)\n",
        "    - num_px (= height = width of a training image)\n",
        "Remember that `train_set_x_orig` is a numpy-array of shape (m_train, num_px, num_px, 3). For instance, you can access `m_train` by writing `train_set_x_orig.shape[0]`."
      ]
    },
    {
      "cell_type": "code",
      "metadata": {
        "scrolled": true,
        "id": "vJyJSxnrE1W1",
        "colab": {
          "base_uri": "https://localhost:8080/"
        },
        "outputId": "350bff9b-ca6e-42a6-e517-983344ad433f"
      },
      "source": [
        "#number of examples\n",
        "m_train = train_set_x_orig.shape[0]\n",
        "m_test = test_set_x_orig.shape[0]\n",
        "num_px = train_set_x_orig.shape[1]\n",
        "\n",
        "print (\"Number of training examples: m_train = \" + str(m_train))\n",
        "print (\"Number of testing examples: m_test = \" + str(m_test))\n",
        "print (\"Height/Width of each image: num_px = \" + str(num_px))\n",
        "print (\"Each image is of size: (\" + str(num_px) + \", \" + str(num_px) + \", 3)\")\n",
        "print (\"train_set_x shape: \" + str(train_set_x_orig.shape))\n",
        "print (\"train_set_y shape: \" + str(train_set_y.shape))\n",
        "print (\"test_set_x shape: \" + str(test_set_x_orig.shape))\n",
        "print (\"test_set_y shape: \" + str(test_set_y.shape))"
      ],
      "execution_count": null,
      "outputs": [
        {
          "output_type": "stream",
          "name": "stdout",
          "text": [
            "Number of training examples: m_train = 209\n",
            "Number of testing examples: m_test = 50\n",
            "Height/Width of each image: num_px = 64\n",
            "Each image is of size: (64, 64, 3)\n",
            "train_set_x shape: (209, 64, 64, 3)\n",
            "train_set_y shape: (1, 209)\n",
            "test_set_x shape: (50, 64, 64, 3)\n",
            "test_set_y shape: (1, 50)\n"
          ]
        }
      ]
    },
    {
      "cell_type": "markdown",
      "metadata": {
        "id": "5p0-ptc5E1W5"
      },
      "source": [
        "**Expected Output for m_train, m_test and num_px**: \n",
        "<table style=\"width:15%\">\n",
        "  <tr>\n",
        "    <td>**m_train**</td>\n",
        "    <td> 209 </td> \n",
        "  </tr>\n",
        "  \n",
        "  <tr>\n",
        "    <td>**m_test**</td>\n",
        "    <td> 50 </td> \n",
        "  </tr>\n",
        "  \n",
        "  <tr>\n",
        "    <td>**num_px**</td>\n",
        "    <td> 64 </td> \n",
        "  </tr>\n",
        "  \n",
        "</table>\n"
      ]
    },
    {
      "cell_type": "markdown",
      "metadata": {
        "id": "arPKaoX8E1W6"
      },
      "source": [
        "For convenience, you should now reshape images of shape (num_px, num_px, 3) in a numpy-array of shape (num_px $*$ num_px $*$ 3, 1). After this, our training (and test) dataset is a numpy-array where each column represents a flattened image. There should be m_train (respectively m_test) columns.\n",
        "\n",
        "**Exercise:** Reshape the training and test data sets so that images of size (num_px, num_px, 3) are flattened into single vectors of shape (num\\_px $*$ num\\_px $*$ 3, 1).\n",
        "\n",
        "A trick when you want to flatten a matrix X of shape (a,b,c,d) to a matrix X_flatten of shape (b$*$c$*$d, a) is to use: \n",
        "```python\n",
        "X_flatten = X.reshape(X.shape[0], -1).T      # X.T is the transpose of X\n",
        "```"
      ]
    },
    {
      "cell_type": "code",
      "metadata": {
        "id": "LXiAShm7E1W6",
        "colab": {
          "base_uri": "https://localhost:8080/"
        },
        "outputId": "f77696a4-1ba5-4801-e710-ca81b11b75b7"
      },
      "source": [
        "# Reshape the training and test examples\n",
        "train_set_x_flatten = train_set_x_orig.reshape(train_set_x_orig.shape[0], -1).T\n",
        "test_set_x_flatten = test_set_x_orig.reshape(test_set_x_orig.shape[0], -1).T\n",
        "\n",
        "print (\"train_set_x_flatten shape: \" + str(train_set_x_flatten.shape))\n",
        "print (\"train_set_y shape: \" + str(train_set_y.shape))\n",
        "print (\"test_set_x_flatten shape: \" + str(test_set_x_flatten.shape))\n",
        "print (\"test_set_y shape: \" + str(test_set_y.shape))\n",
        "print (\"sanity check after reshaping: \" + str(train_set_x_flatten[0:5,0]))"
      ],
      "execution_count": null,
      "outputs": [
        {
          "output_type": "stream",
          "name": "stdout",
          "text": [
            "train_set_x_flatten shape: (12288, 209)\n",
            "train_set_y shape: (1, 209)\n",
            "test_set_x_flatten shape: (12288, 50)\n",
            "test_set_y shape: (1, 50)\n",
            "sanity check after reshaping: [17 31 56 22 33]\n"
          ]
        }
      ]
    },
    {
      "cell_type": "markdown",
      "metadata": {
        "id": "HFv9TWGjE1W8"
      },
      "source": [
        "**Expected Output**: \n",
        "\n",
        "<table style=\"width:35%\">\n",
        "  <tr>\n",
        "    <td>**train_set_x_flatten shape**</td>\n",
        "    <td> (12288, 209)</td> \n",
        "  </tr>\n",
        "  <tr>\n",
        "    <td>**train_set_y shape**</td>\n",
        "    <td>(1, 209)</td> \n",
        "  </tr>\n",
        "  <tr>\n",
        "    <td>**test_set_x_flatten shape**</td>\n",
        "    <td>(12288, 50)</td> \n",
        "  </tr>\n",
        "  <tr>\n",
        "    <td>**test_set_y shape**</td>\n",
        "    <td>(1, 50)</td> \n",
        "  </tr>\n",
        "  <tr>\n",
        "  <td>**sanity check after reshaping**</td>\n",
        "  <td>[17 31 56 22 33]</td> \n",
        "  </tr>\n",
        "</table>"
      ]
    },
    {
      "cell_type": "markdown",
      "metadata": {
        "id": "XAuVohZ9E1W9"
      },
      "source": [
        "To represent color images, the red, green and blue channels (RGB) must be specified for each pixel, and so the pixel value is actually a vector of three numbers ranging from 0 to 255.\n",
        "\n",
        "One common preprocessing step in machine learning is to center and standardize your dataset, meaning that you substract the mean of the whole numpy array from each example, and then divide each example by the standard deviation of the whole numpy array. But for picture datasets, it is simpler and more convenient and works almost as well to just divide every row of the dataset by 255 (the maximum value of a pixel channel).\n",
        "\n",
        "<!-- During the training of your model, you're going to multiply weights and add biases to some initial inputs in order to observe neuron activations. Then you backpropogate with the gradients to train the model. But, it is extremely important for each feature to have a similar range such that our gradients don't explode. You will see that more in detail later in the lectures. !--> \n",
        "\n",
        "Let's standardize our dataset."
      ]
    },
    {
      "cell_type": "code",
      "metadata": {
        "id": "f1J8v2T0E1W-"
      },
      "source": [
        "train_set_x = train_set_x_flatten/255.\n",
        "test_set_x = test_set_x_flatten/255."
      ],
      "execution_count": null,
      "outputs": []
    },
    {
      "cell_type": "markdown",
      "metadata": {
        "id": "RAkqiFg0E1W-"
      },
      "source": [
        "<font color='blue'>\n",
        "**What you need to remember:**\n",
        "\n",
        "Common steps for pre-processing a new dataset are:\n",
        "- Figure out the dimensions and shapes of the problem (m_train, m_test, num_px, ...)\n",
        "- Reshape the datasets such that each example is now a vector of size (num_px \\* num_px \\* 3, 1)\n",
        "- \"Standardize\" the data"
      ]
    },
    {
      "cell_type": "markdown",
      "metadata": {
        "id": "r-9dsV1vE1W_"
      },
      "source": [
        "## 3 - General Architecture of the learning algorithm ##\n",
        "\n",
        "It's time to design a simple algorithm to distinguish cat images from non-cat images.\n",
        "\n",
        "You will build a Logistic Regression, using a Neural Network mindset. The following Figure explains why **Logistic Regression is actually a very simple Neural Network!**\n",
        "\n",
        "<img src=\"https://github.com/ehabhamdy/Logistic-Regression-with-a-Neural-Network-mindset/blob/master/images/LogReg_kiank.png?raw=1\" style=\"width:650px;height:400px;\">\n",
        "\n",
        "**Mathematical expression of the algorithm**:\n",
        "\n",
        "For one example $x^{(i)}$:\n",
        "$$z^{(i)} = w^T x^{(i)} + b \\tag{1}$$\n",
        "$$\\hat{y}^{(i)} = a^{(i)} = sigmoid(z^{(i)})\\tag{2}$$ \n",
        "$$ \\mathcal{L}(a^{(i)}, y^{(i)}) =  - y^{(i)}  \\log(a^{(i)}) - (1-y^{(i)} )  \\log(1-a^{(i)})\\tag{3}$$\n",
        "\n",
        "The cost is then computed by summing over all training examples:\n",
        "$$ J = \\frac{1}{m} \\sum_{i=1}^m \\mathcal{L}(a^{(i)}, y^{(i)})\\tag{6}$$\n",
        "\n",
        "**Key steps**:\n",
        "In this exercise, you will carry out the following steps: \n",
        "    - Initialize the parameters of the model\n",
        "    - Learn the parameters for the model by minimizing the cost  \n",
        "    - Use the learned parameters to make predictions (on the test set)\n",
        "    - Analyse the results and conclude"
      ]
    },
    {
      "cell_type": "markdown",
      "metadata": {
        "id": "gqZ1AP-sE1XA"
      },
      "source": [
        "## 4 - Building the parts of our algorithm ## \n",
        "\n",
        "The main steps for building a Neural Network are:\n",
        "1. Define the model structure (such as number of input features) \n",
        "2. Initialize the model's parameters\n",
        "3. Loop:\n",
        "    - Calculate current loss (forward propagation)\n",
        "    - Calculate current gradient (backward propagation)\n",
        "    - Update parameters (gradient descent)\n",
        "\n",
        "You often build 1-3 separately and integrate them into one function we call `model()`.\n",
        "\n",
        "### 4.1 - Helper functions\n",
        "\n",
        "**Exercise**: Using your code from \"Python Basics\", implement `sigmoid()`. As you've seen in the figure above, you need to compute $sigmoid( w^T x + b) = \\frac{1}{1 + e^{-(w^T x + b)}}$ to make predictions. Use np.exp()."
      ]
    },
    {
      "cell_type": "code",
      "metadata": {
        "id": "MnylCX2gE1XA"
      },
      "source": [
        "# GRADED FUNCTION: sigmoid\n",
        "def sigmoid(z):\n",
        "    \"\"\"\n",
        "    Compute the sigmoid of z\n",
        "\n",
        "    Arguments:\n",
        "    z -- A scalar or numpy array of any size.\n",
        "\n",
        "    Return:\n",
        "    s -- sigmoid(z)\n",
        "    \"\"\"\n",
        "\n",
        "    ### START CODE HERE ### (≈ 1 line of code)\n",
        "    s = 1 / (1 + np.exp(-z))\n",
        "    ### END CODE HERE ###\n",
        "    \n",
        "    return s"
      ],
      "execution_count": null,
      "outputs": []
    },
    {
      "cell_type": "code",
      "metadata": {
        "scrolled": true,
        "id": "wWKJGC_SE1XC",
        "colab": {
          "base_uri": "https://localhost:8080/"
        },
        "outputId": "27e47f4f-48f2-4479-b2f0-5998b6ee988f"
      },
      "source": [
        "print (\"sigmoid([0, 2]) = \" + str(sigmoid(np.array([0,2]))))"
      ],
      "execution_count": null,
      "outputs": [
        {
          "output_type": "stream",
          "name": "stdout",
          "text": [
            "sigmoid([0, 2]) = [0.5        0.88079708]\n"
          ]
        }
      ]
    },
    {
      "cell_type": "markdown",
      "metadata": {
        "id": "VOPPgshmE1XD"
      },
      "source": [
        "**Expected Output**: \n",
        "\n",
        "<table>\n",
        "  <tr>\n",
        "    <td>**sigmoid([0, 2])**</td>\n",
        "    <td> [ 0.5         0.88079708]</td> \n",
        "  </tr>\n",
        "</table>"
      ]
    },
    {
      "cell_type": "markdown",
      "metadata": {
        "id": "ks5DZ30jE1XE"
      },
      "source": [
        "### 4.2 - Initializing parameters\n",
        "\n",
        "**Exercise:** Implement parameter initialization in the cell below. You have to initialize w as a vector of zeros. If you don't know what numpy function to use, look up np.zeros() in the Numpy library's documentation."
      ]
    },
    {
      "cell_type": "code",
      "metadata": {
        "id": "IQjyXXnYE1XF"
      },
      "source": [
        "# GRADED FUNCTION: initialize_with_zeros\n",
        "\n",
        "def initialize_with_zeros(dim):\n",
        "    \"\"\"\n",
        "    This function creates a vector of zeros of shape (dim, 1) for w and initializes b to 0.\n",
        "    \n",
        "    Argument:\n",
        "    dim -- size of the w vector we want (or number of parameters in this case)\n",
        "    \n",
        "    Returns:\n",
        "    w -- initialized vector of shape (dim, 1)\n",
        "    b -- initialized scalar (corresponds to the bias)\n",
        "    \"\"\"\n",
        "    \n",
        "    ### START CODE HERE ### (≈ 1 line of code)\n",
        "    w = np.zeros((dim, 1))\n",
        "    b = 0\n",
        "    ### END CODE HERE ###\n",
        "\n",
        "    assert(w.shape == (dim, 1))\n",
        "    assert(isinstance(b, float) or isinstance(b, int))\n",
        "    \n",
        "    return w, b"
      ],
      "execution_count": null,
      "outputs": []
    },
    {
      "cell_type": "code",
      "metadata": {
        "id": "kfNEFqzTE1XH",
        "colab": {
          "base_uri": "https://localhost:8080/"
        },
        "outputId": "49131621-ab5f-4d7c-e2c8-9de525c561d5"
      },
      "source": [
        "dim = 2\n",
        "w, b = initialize_with_zeros(dim)\n",
        "print (\"w = \" + str(w))\n",
        "print (\"b = \" + str(b))"
      ],
      "execution_count": null,
      "outputs": [
        {
          "output_type": "stream",
          "name": "stdout",
          "text": [
            "w = [[0.]\n",
            " [0.]]\n",
            "b = 0\n"
          ]
        }
      ]
    },
    {
      "cell_type": "markdown",
      "metadata": {
        "id": "mZEhZ2AlE1XI"
      },
      "source": [
        "**Expected Output**: \n",
        "\n",
        "\n",
        "<table style=\"width:15%\">\n",
        "    <tr>\n",
        "        <td>  ** w **  </td>\n",
        "        <td> [[ 0.]\n",
        " [ 0.]] </td>\n",
        "    </tr>\n",
        "    <tr>\n",
        "        <td>  ** b **  </td>\n",
        "        <td> 0 </td>\n",
        "    </tr>\n",
        "</table>\n",
        "\n",
        "For image inputs, w will be of shape (num_px $\\times$ num_px $\\times$ 3, 1)."
      ]
    },
    {
      "cell_type": "markdown",
      "metadata": {
        "id": "n8E9v9XGE1XJ"
      },
      "source": [
        "### 4.3 - Forward and Backward propagation\n",
        "\n",
        "Now that your parameters are initialized, you can do the \"forward\" and \"backward\" propagation steps for learning the parameters.\n",
        "\n",
        "**Exercise:** Implement a function `propagate()` that computes the cost function and its gradient.\n",
        "\n",
        "**Hints**:\n",
        "\n",
        "Forward Propagation:\n",
        "- You get X\n",
        "- You compute $A = \\sigma(w^T X + b) = (a^{(0)}, a^{(1)}, ..., a^{(m-1)}, a^{(m)})$\n",
        "- You calculate the cost function: $J = -\\frac{1}{m}\\sum_{i=1}^{m}y^{(i)}\\log(a^{(i)})+(1-y^{(i)})\\log(1-a^{(i)})$\n",
        "\n",
        "Here are the two formulas you will be using: \n",
        "\n",
        "$$ \\frac{\\partial J}{\\partial w} = \\frac{1}{m}X(A-Y)^T\\tag{7}$$\n",
        "$$ \\frac{\\partial J}{\\partial b} = \\frac{1}{m} \\sum_{i=1}^m (a^{(i)}-y^{(i)})\\tag{8}$$"
      ]
    },
    {
      "cell_type": "code",
      "metadata": {
        "id": "_Vm5-ow1E1XJ"
      },
      "source": [
        "# GRADED FUNCTION: propagate\n",
        "\n",
        "def propagate(w, b, X, Y):\n",
        "    \"\"\"\n",
        "    Implement the cost function and its gradient for the propagation explained above\n",
        "\n",
        "    Arguments:\n",
        "    w -- weights, a numpy array of size (num_px * num_px * 3, 1)\n",
        "    b -- bias, a scalar\n",
        "    X -- data of size (num_px * num_px * 3, number of examples)\n",
        "    Y -- true \"label\" vector (containing 0 if non-cat, 1 if cat) of size (1, number of examples)\n",
        "\n",
        "    Return:\n",
        "    cost -- negative log-likelihood cost for logistic regression\n",
        "    dw -- gradient of the loss with respect to w, thus same shape as w\n",
        "    db -- gradient of the loss with respect to b, thus same shape as b\n",
        "    \n",
        "    Tips:\n",
        "    - Write your code step by step for the propagation. np.log(), np.dot()\n",
        "    \"\"\"\n",
        "    \n",
        "    m = X.shape[1]\n",
        "    \n",
        "    # FORWARD PROPAGATION (FROM X TO COST)\n",
        "\n",
        "    # compute activation \n",
        "    A = sigmoid(np.dot(X.T,w) + b)          \n",
        "    \n",
        "    cost = -(1/m) * np.sum(Y.T * np.log(A) + (1 - Y.T) * (np.log(1-A)) )                                 # compute cost\n",
        "    # BACKWARD PROPAGATION (TO FIND GRAD)\n",
        "\n",
        "    \n",
        "    dw = (1/m) * np.dot(X,(A-Y.T))\n",
        "\n",
        "    db = (1/m) * np.sum(A-Y.T)\n",
        "\n",
        "    assert(dw.shape == w.shape)\n",
        "    assert(db.dtype == float)\n",
        "    cost = np.squeeze(cost)\n",
        "    assert(cost.shape == ())\n",
        "    \n",
        "    grads = {\"dw\": dw,\n",
        "             \"db\": db}\n",
        "    \n",
        "    return grads, cost"
      ],
      "execution_count": null,
      "outputs": []
    },
    {
      "cell_type": "code",
      "metadata": {
        "id": "zURdzs6fE1XK",
        "colab": {
          "base_uri": "https://localhost:8080/"
        },
        "outputId": "4c91c54f-5095-4380-b5e2-de4f626da4d2"
      },
      "source": [
        "w, b, X, Y = np.array([[1],[2]]), 2, np.array([[1,2],[3,4]]), np.array([[1,0]])\n",
        "grads, cost = propagate(w, b, X, Y)\n",
        "print (\"dw = \" + str(grads[\"dw\"]))\n",
        "print (\"db = \" + str(grads[\"db\"]))\n",
        "print (\"cost = \" + str(cost))"
      ],
      "execution_count": null,
      "outputs": [
        {
          "output_type": "stream",
          "name": "stdout",
          "text": [
            "dw = [[0.99993216]\n",
            " [1.99980262]]\n",
            "db = 0.49993523062470574\n",
            "cost = 6.000064773192205\n"
          ]
        }
      ]
    },
    {
      "cell_type": "markdown",
      "metadata": {
        "id": "2lYIZE1RE1XL"
      },
      "source": [
        "**Expected Output**:\n",
        "\n",
        "<table style=\"width:50%\">\n",
        "    <tr>\n",
        "        <td>  ** dw **  </td>\n",
        "        <td> [[ 0.99993216]\n",
        " [ 1.99980262]]</td>\n",
        "    </tr>\n",
        "    <tr>\n",
        "        <td>  ** db **  </td>\n",
        "        <td> 0.499935230625 </td>\n",
        "    </tr>\n",
        "    <tr>\n",
        "        <td>  ** cost **  </td>\n",
        "        <td> 6.000064773192205</td>\n",
        "    </tr>\n",
        "\n",
        "</table>"
      ]
    },
    {
      "cell_type": "markdown",
      "metadata": {
        "id": "iGa_iEbDE1XM"
      },
      "source": [
        "### d) Optimization\n",
        "- You have initialized your parameters.\n",
        "- You are also able to compute a cost function and its gradient.\n",
        "- Now, you want to update the parameters using gradient descent.\n",
        "\n",
        "**Exercise:** Write down the optimization function. The goal is to learn $w$ and $b$ by minimizing the cost function $J$. For a parameter $\\theta$, the update rule is $ \\theta = \\theta - \\alpha \\text{ } d\\theta$, where $\\alpha$ is the learning rate."
      ]
    },
    {
      "cell_type": "code",
      "metadata": {
        "id": "v8vbHgW6E1XN"
      },
      "source": [
        "# GRADED FUNCTION: optimize\n",
        "\n",
        "def optimize(w, b, X, Y, num_iterations, learning_rate, print_cost = False):\n",
        "    \"\"\"\n",
        "    This function optimizes w and b by running a gradient descent algorithm\n",
        "    \n",
        "    Arguments:\n",
        "    w -- weights, a numpy array of size (num_px * num_px * 3, 1)\n",
        "    b -- bias, a scalar\n",
        "    X -- data of shape (num_px * num_px * 3, number of examples)\n",
        "    Y -- true \"label\" vector (containing 0 if non-cat, 1 if cat), of shape (1, number of examples)\n",
        "    num_iterations -- number of iterations of the optimization loop\n",
        "    learning_rate -- learning rate of the gradient descent update rule\n",
        "    print_cost -- True to print the loss every 100 steps\n",
        "    \n",
        "    Returns:\n",
        "    params -- dictionary containing the weights w and bias b\n",
        "    grads -- dictionary containing the gradients of the weights and bias with respect to the cost function\n",
        "    costs -- list of all the costs computed during the optimization, this will be used to plot the learning curve.\n",
        "    \n",
        "    Tips:\n",
        "    You basically need to write down two steps and iterate through them:\n",
        "        1) Calculate the cost and the gradient for the current parameters. Use propagate().\n",
        "        2) Update the parameters using gradient descent rule for w and b.\n",
        "    \"\"\"\n",
        "    \n",
        "    costs = []\n",
        "    \n",
        "    for i in range(num_iterations):\n",
        "        \n",
        "        \n",
        "        # Cost and gradient calculation (≈ 1-4 lines of code)\n",
        "    \n",
        "        grads, cost = propagate(w, b, X, Y)\n",
        "        \n",
        "        # Retrieve derivatives from grads\n",
        "        dw = grads[\"dw\"]\n",
        "        db = grads[\"db\"]\n",
        "        \n",
        "        # update rule (≈ 2 lines of code)\n",
        "        w = w - learning_rate * dw\n",
        "        b = b - learning_rate * db\n",
        "        \n",
        "        # Record the costs\n",
        "        if i % 100 == 0:\n",
        "            costs.append(cost)\n",
        "        \n",
        "        # Print the cost every 100 training examples\n",
        "        if print_cost and i % 100 == 0:\n",
        "            print (\"Cost after iteration %i: %f\" %(i, cost))\n",
        "    \n",
        "    params = {\"w\": w,\n",
        "              \"b\": b}\n",
        "    \n",
        "    grads = {\"dw\": dw,\n",
        "             \"db\": db}\n",
        "    \n",
        "    return params, grads, costs"
      ],
      "execution_count": null,
      "outputs": []
    },
    {
      "cell_type": "code",
      "metadata": {
        "id": "sj-wZZfzE1XO",
        "colab": {
          "base_uri": "https://localhost:8080/"
        },
        "outputId": "bc89aff8-ce74-49e0-fa3a-707fd8c633d8"
      },
      "source": [
        "params, grads, costs = optimize(w, b, X, Y, num_iterations= 100, learning_rate = 0.009, print_cost = False)\n",
        "\n",
        "print (\"w = \" + str(params[\"w\"]))\n",
        "print (\"b = \" + str(params[\"b\"]))\n",
        "print (\"dw = \" + str(grads[\"dw\"]))\n",
        "print (\"db = \" + str(grads[\"db\"]))"
      ],
      "execution_count": null,
      "outputs": [
        {
          "output_type": "stream",
          "name": "stdout",
          "text": [
            "w = [[0.1124579 ]\n",
            " [0.23106775]]\n",
            "b = 1.5593049248448891\n",
            "dw = [[0.90158428]\n",
            " [1.76250842]]\n",
            "db = 0.4304620716786828\n"
          ]
        }
      ]
    },
    {
      "cell_type": "markdown",
      "metadata": {
        "id": "6kmdQq8uE1XO"
      },
      "source": [
        "**Expected Output**: \n",
        "\n",
        "<table style=\"width:40%\">\n",
        "    <tr>\n",
        "       <td> **w** </td>\n",
        "       <td>[[ 0.1124579 ]\n",
        " [ 0.23106775]] </td>\n",
        "    </tr>\n",
        "    \n",
        "    <tr>\n",
        "       <td> **b** </td>\n",
        "       <td> 1.55930492484 </td>\n",
        "    </tr>\n",
        "    <tr>\n",
        "       <td> **dw** </td>\n",
        "       <td> [[ 0.90158428]\n",
        " [ 1.76250842]] </td>\n",
        "    </tr>\n",
        "    <tr>\n",
        "       <td> **db** </td>\n",
        "       <td> 0.430462071679 </td>\n",
        "    </tr>\n",
        "\n",
        "</table>"
      ]
    },
    {
      "cell_type": "markdown",
      "metadata": {
        "id": "ikuBgQP9E1XP"
      },
      "source": [
        "**Exercise:** The previous function will output the learned w and b. We are able to use w and b to predict the labels for a dataset X. Implement the `predict()` function. There is two steps to computing predictions:\n",
        "\n",
        "1. Calculate $\\hat{Y} = A = \\sigma(w^T X + b)$\n",
        "\n",
        "2. Convert the entries of a into 0 (if activation <= 0.5) or 1 (if activation > 0.5), stores the predictions in a vector `Y_prediction`. If you wish, you can use an `if`/`else` statement in a `for` loop (though there is also a way to vectorize this). "
      ]
    },
    {
      "cell_type": "code",
      "metadata": {
        "id": "lzLwuWheE1XQ"
      },
      "source": [
        "# GRADED FUNCTION: predict\n",
        "\n",
        "def predict(w, b, X):\n",
        "    '''\n",
        "    Predict whether the label is 0 or 1 using learned logistic regression parameters (w, b)\n",
        "    \n",
        "    Arguments:\n",
        "    w -- weights, a numpy array of size (num_px * num_px * 3, 1)\n",
        "    b -- bias, a scalar\n",
        "    X -- data of size (num_px * num_px * 3, number of examples)\n",
        "    \n",
        "    Returns:\n",
        "    Y_prediction -- a numpy array (vector) containing all predictions (0/1) for the examples in X\n",
        "    '''\n",
        "    \n",
        "    m = X.shape[1]\n",
        "    Y_prediction = np.zeros((1,m))\n",
        "    w = w.reshape(X.shape[0], 1)\n",
        "    \n",
        "    # Compute vector \"A\" predicting the probabilities of a cat being present in the picture\n",
        "    A = sigmoid(np.dot(X.T,w) + b)\n",
        "\n",
        "    print(range(A.shape[1]))\n",
        "    for i in range(A.shape[0]):        \n",
        "        # Convert probabilities A[0,i] to actual predictions p[0,i]\n",
        "        \n",
        "        if(A[i,0] > 0.5):\n",
        "            Y_prediction[0,i] = 1\n",
        "        else:\n",
        "            Y_prediction[0,i] = 0\n",
        "        \n",
        "    assert(Y_prediction.shape == (1, m))\n",
        "    \n",
        "    return Y_prediction"
      ],
      "execution_count": null,
      "outputs": []
    },
    {
      "cell_type": "code",
      "metadata": {
        "id": "HQ4Z3yrSE1XQ",
        "colab": {
          "base_uri": "https://localhost:8080/"
        },
        "outputId": "68ef167f-cd17-4134-d3eb-99350b730567"
      },
      "source": [
        "print (\"predictions = \" + str(predict(w, b, X)))\n",
        "print(\"X is \" + str(X.shape))"
      ],
      "execution_count": null,
      "outputs": [
        {
          "output_type": "stream",
          "name": "stdout",
          "text": [
            "range(0, 1)\n",
            "predictions = [[1. 1.]]\n",
            "X is (2, 2)\n"
          ]
        }
      ]
    },
    {
      "cell_type": "markdown",
      "metadata": {
        "id": "xBx5NKIXE1XR"
      },
      "source": [
        "**Expected Output**: \n",
        "\n",
        "<table style=\"width:30%\">\n",
        "    <tr>\n",
        "         <td>\n",
        "             **predictions**\n",
        "         </td>\n",
        "          <td>\n",
        "            [[ 1.  1.]]\n",
        "         </td>  \n",
        "   </tr>\n",
        "\n",
        "</table>\n"
      ]
    },
    {
      "cell_type": "markdown",
      "metadata": {
        "collapsed": true,
        "id": "x0QJi9ayE1XS"
      },
      "source": [
        "<font color='blue'>\n",
        "**What to remember:**\n",
        "You've implemented several functions that:\n",
        "- Initialize (w,b)\n",
        "- Optimize the loss iteratively to learn parameters (w,b):\n",
        "    - computing the cost and its gradient \n",
        "    - updating the parameters using gradient descent\n",
        "- Use the learned (w,b) to predict the labels for a given set of examples"
      ]
    },
    {
      "cell_type": "markdown",
      "metadata": {
        "id": "9U_jyj2QE1XS"
      },
      "source": [
        "## 5 - Merge all functions into a model ##\n",
        "\n",
        "You will now see how the overall model is structured by putting together all the building blocks (functions implemented in the previous parts) together, in the right order.\n",
        "\n",
        "**Exercise:** Implement the model function. Use the following notation:\n",
        "    - Y_prediction for your predictions on the test set\n",
        "    - Y_prediction_train for your predictions on the train set\n",
        "    - w, costs, grads for the outputs of optimize()"
      ]
    },
    {
      "cell_type": "code",
      "metadata": {
        "id": "Ul_YUJKTE1XT"
      },
      "source": [
        "# GRADED FUNCTION: model\n",
        "\n",
        "def model(X_train, Y_train, X_test, Y_test, num_iterations = 2000, learning_rate = 0.5, print_cost = False):\n",
        "    \"\"\"\n",
        "    Builds the logistic regression model by calling the function you've implemented previously\n",
        "    \n",
        "    Arguments:\n",
        "    X_train -- training set represented by a numpy array of shape (num_px * num_px * 3, m_train)\n",
        "    Y_train -- training labels represented by a numpy array (vector) of shape (1, m_train)\n",
        "    X_test -- test set represented by a numpy array of shape (num_px * num_px * 3, m_test)\n",
        "    Y_test -- test labels represented by a numpy array (vector) of shape (1, m_test)\n",
        "    num_iterations -- hyperparameter representing the number of iterations to optimize the parameters\n",
        "    learning_rate -- hyperparameter representing the learning rate used in the update rule of optimize()\n",
        "    print_cost -- Set to true to print the cost every 100 iterations\n",
        "    \n",
        "    Returns:\n",
        "    d -- dictionary containing information about the model.\n",
        "    \"\"\"\n",
        "    \n",
        "    # initialize parameters with zeros (≈ 1 line of code)\n",
        "\n",
        "    w, b = initialize_with_zeros(X_train.shape[0])\n",
        "    print(w.shape)\n",
        "    # Gradient descent (≈ 1 line of code)\n",
        "    parameters, grads, costs = optimize(w, b, X_train, Y_train, num_iterations, learning_rate, print_cost)\n",
        "    \n",
        "    # Retrieve parameters w and b from dictionary \"parameters\"\n",
        "    w = parameters[\"w\"]\n",
        "    b = parameters[\"b\"]\n",
        "    \n",
        "    # Predict test/train set examples (≈ 2 lines of code)\n",
        "    Y_prediction_test = predict(w,b, X_test)\n",
        "    Y_prediction_train = predict(w,b, X_train)\n",
        "\n",
        "    # Print train/test Errors\n",
        "    print(\"train accuracy: {} %\".format(100 - np.mean(np.abs(Y_prediction_train - Y_train)) * 100))\n",
        "    print(\"test accuracy: {} %\".format(100 - np.mean(np.abs(Y_prediction_test - Y_test)) * 100))\n",
        "\n",
        "    \n",
        "    d = {\"costs\": costs,\n",
        "         \"Y_prediction_test\": Y_prediction_test, \n",
        "         \"Y_prediction_train\" : Y_prediction_train, \n",
        "         \"w\" : w, \n",
        "         \"b\" : b,\n",
        "         \"learning_rate\" : learning_rate,\n",
        "         \"num_iterations\": num_iterations}\n",
        "    \n",
        "    return d"
      ],
      "execution_count": null,
      "outputs": []
    },
    {
      "cell_type": "markdown",
      "metadata": {
        "id": "wZvl7Yq3E1XT"
      },
      "source": [
        "Run the following cell to train your model."
      ]
    },
    {
      "cell_type": "code",
      "metadata": {
        "id": "AAaT2sUnE1XT",
        "colab": {
          "base_uri": "https://localhost:8080/"
        },
        "outputId": "310986bc-b6c0-49cd-f2b0-1332f54ccf99"
      },
      "source": [
        "d = model(train_set_x, train_set_y, test_set_x, test_set_y, num_iterations = 2000, learning_rate = 0.005, print_cost = True)"
      ],
      "execution_count": null,
      "outputs": [
        {
          "output_type": "stream",
          "name": "stdout",
          "text": [
            "(12288, 1)\n",
            "Cost after iteration 0: 0.693147\n",
            "Cost after iteration 100: 0.584508\n",
            "Cost after iteration 200: 0.466949\n",
            "Cost after iteration 300: 0.376007\n",
            "Cost after iteration 400: 0.331463\n",
            "Cost after iteration 500: 0.303273\n",
            "Cost after iteration 600: 0.279880\n",
            "Cost after iteration 700: 0.260042\n",
            "Cost after iteration 800: 0.242941\n",
            "Cost after iteration 900: 0.228004\n",
            "Cost after iteration 1000: 0.214820\n",
            "Cost after iteration 1100: 0.203078\n",
            "Cost after iteration 1200: 0.192544\n",
            "Cost after iteration 1300: 0.183033\n",
            "Cost after iteration 1400: 0.174399\n",
            "Cost after iteration 1500: 0.166521\n",
            "Cost after iteration 1600: 0.159305\n",
            "Cost after iteration 1700: 0.152667\n",
            "Cost after iteration 1800: 0.146542\n",
            "Cost after iteration 1900: 0.140872\n",
            "range(0, 1)\n",
            "range(0, 1)\n",
            "train accuracy: 99.04306220095694 %\n",
            "test accuracy: 70.0 %\n"
          ]
        }
      ]
    },
    {
      "cell_type": "markdown",
      "metadata": {
        "id": "qdyNWXjZE1XU"
      },
      "source": [
        "**Expected Output**: \n",
        "\n",
        "<table style=\"width:40%\"> \n",
        "    \n",
        "    <tr>\n",
        "        <td> **Train Accuracy**  </td> \n",
        "        <td> 99.04306220095694 % </td>\n",
        "    </tr>\n",
        "\n",
        "    <tr>\n",
        "        <td>**Test Accuracy** </td> \n",
        "        <td> 70.0 % </td>\n",
        "    </tr>\n",
        "</table> \n",
        "\n",
        "\n"
      ]
    },
    {
      "cell_type": "markdown",
      "metadata": {
        "collapsed": true,
        "id": "rkSbik0gE1XU"
      },
      "source": [
        "**Comment**: Training accuracy is close to 100%. This is a good sanity check: your model is working and has high enough capacity to fit the training data. Test error is 68%. It is actually not bad for this simple model, given the small dataset we used and that logistic regression is a linear classifier. But no worries, you'll build an even better classifier next week!\n",
        "\n",
        "Also, you see that the model is clearly overfitting the training data. Later in this specialization you will learn how to reduce overfitting, for example by using regularization. Using the code below (and changing the `index` variable) you can look at predictions on pictures of the test set."
      ]
    },
    {
      "cell_type": "code",
      "metadata": {
        "id": "SbCZ6xuzE1XU",
        "colab": {
          "base_uri": "https://localhost:8080/",
          "height": 285
        },
        "outputId": "1cf77264-fad5-406b-dc2c-f68bdacbe46b"
      },
      "source": [
        "# Example of a picture that was wrongly classified.\n",
        "index = 30\n",
        "plt.imshow(test_set_x[:,index].reshape((num_px, num_px, 3)))\n",
        "print (\"y = \" + str(test_set_y[0,index]) + \", you predicted that it is a \\\"\" + str(d[\"Y_prediction_test\"][0,index])+ \"\\\" picture.\")"
      ],
      "execution_count": null,
      "outputs": [
        {
          "output_type": "stream",
          "name": "stdout",
          "text": [
            "y = 1, you predicted that it is a \"0.0\" picture.\n"
          ]
        },
        {
          "output_type": "display_data",
          "data": {
            "image/png": "[encoded data removed]",
            "text/plain": [
              "<Figure size 432x288 with 1 Axes>"
            ]
          },
          "metadata": {
            "needs_background": "light"
          }
        }
      ]
    },
    {
      "cell_type": "markdown",
      "metadata": {
        "id": "lB5KwXcuE1XV"
      },
      "source": [
        "Let's also plot the cost function and the gradients."
      ]
    },
    {
      "cell_type": "code",
      "metadata": {
        "id": "NF-vZ1eKE1XV",
        "colab": {
          "base_uri": "https://localhost:8080/",
          "height": 295
        },
        "outputId": "995321c9-1a94-4fad-d383-86fe61b20136"
      },
      "source": [
        "# Plot learning curve (with costs)\n",
        "costs = np.squeeze(d['costs'])\n",
        "plt.plot(costs)\n",
        "plt.ylabel('cost')\n",
        "plt.xlabel('iterations (per hundreds)')\n",
        "plt.title(\"Learning rate =\" + str(d[\"learning_rate\"]))\n",
        "plt.show()"
      ],
      "execution_count": null,
      "outputs": [
        {
          "output_type": "display_data",
          "data": {
            "image/png": "[encoded data removed]",
            "text/plain": [
              "<Figure size 432x288 with 1 Axes>"
            ]
          },
          "metadata": {
            "needs_background": "light"
          }
        }
      ]
    },
    {
      "cell_type": "markdown",
      "metadata": {
        "collapsed": true,
        "id": "hjxOIi1GE1XW"
      },
      "source": [
        "**Interpretation**:\n",
        "You can see the cost decreasing. It shows that the parameters are being learned. However, you see that you could train the model even more on the training set. Try to increase the number of iterations in the cell above and rerun the cells. You might see that the training set accuracy goes up, but the test set accuracy goes down. This is called overfitting. "
      ]
    },
    {
      "cell_type": "markdown",
      "metadata": {
        "id": "6Ma61mZTE1XW"
      },
      "source": [
        "## 6 - Further analysis"
      ]
    },
    {
      "cell_type": "markdown",
      "metadata": {
        "id": "4jq02e5ME1XX"
      },
      "source": [
        "#### Choice of learning rate ####\n",
        "\n",
        "**Reminder**:\n",
        "In order for Gradient Descent to work you must choose the learning rate wisely. The learning rate $\\alpha$  determines how rapidly we update the parameters. If the learning rate is too large we may \"overshoot\" the optimal value. Similarly, if it is too small we will need too many iterations to converge to the best values. That's why it is crucial to use a well-tuned learning rate.\n",
        "\n",
        "Let's compare the learning curve of our model with several choices of learning rates. Run the cell below. This should take about 1 minute. Feel free also to try different values than the three we have initialized the `learning_rates` variable to contain, and see what happens. "
      ]
    },
    {
      "cell_type": "code",
      "metadata": {
        "id": "exqsbAWYE1XX",
        "outputId": "403d156c-14be-4955-d3a4-70297b9f437a"
      },
      "source": [
        "learning_rates = [0.01, 0.001, 0.0001]\n",
        "models = {}\n",
        "for i in learning_rates:\n",
        "    print (\"learning rate is: \" + str(i))\n",
        "    models[str(i)] = model(train_set_x, train_set_y, test_set_x, test_set_y, num_iterations = 1500, learning_rate = i, print_cost = False)\n",
        "    print ('\\n' + \"-------------------------------------------------------\" + '\\n')\n",
        "\n",
        "for i in learning_rates:\n",
        "    plt.plot(np.squeeze(models[str(i)][\"costs\"]), label= str(models[str(i)][\"learning_rate\"]))\n",
        "\n",
        "plt.ylabel('cost')\n",
        "plt.xlabel('iterations')\n",
        "\n",
        "legend = plt.legend(loc='upper center', shadow=True)\n",
        "frame = legend.get_frame()\n",
        "frame.set_facecolor('0.90')\n",
        "plt.show()"
      ],
      "execution_count": null,
      "outputs": [
        {
          "name": "stdout",
          "output_type": "stream",
          "text": [
            "learning rate is: 0.01\n",
            "(12288, 1)\n",
            "range(0, 1)\n",
            "range(0, 1)\n",
            "train accuracy: 99.52153110047847 %\n",
            "test accuracy: 68.0 %\n",
            "\n",
            "-------------------------------------------------------\n",
            "\n",
            "learning rate is: 0.001\n",
            "(12288, 1)\n",
            "range(0, 1)\n",
            "range(0, 1)\n",
            "train accuracy: 88.99521531100478 %\n",
            "test accuracy: 64.0 %\n",
            "\n",
            "-------------------------------------------------------\n",
            "\n",
            "learning rate is: 0.0001\n",
            "(12288, 1)\n",
            "range(0, 1)\n",
            "range(0, 1)\n",
            "train accuracy: 68.42105263157895 %\n",
            "test accuracy: 36.0 %\n",
            "\n",
            "-------------------------------------------------------\n",
            "\n"
          ]
        },
        {
          "data": {
            "image/png": "[encoded data removed]",
            "text/plain": [
              "<matplotlib.figure.Figure at 0x118d11f98>"
            ]
          },
          "metadata": {},
          "output_type": "display_data"
        }
      ]
    },
    {
      "cell_type": "markdown",
      "metadata": {
        "id": "ENnso5HsE1XX"
      },
      "source": [
        "**Interpretation**: \n",
        "- Different learning rates give different costs and thus different predictions results.\n",
        "- If the learning rate is too large (0.01), the cost may oscillate up and down. It may even diverge (though in this example, using 0.01 still eventually ends up at a good value for the cost). \n",
        "- A lower cost doesn't mean a better model. You have to check if there is possibly overfitting. It happens when the training accuracy is a lot higher than the test accuracy.\n",
        "- In deep learning, we usually recommend that you: \n",
        "    - Choose the learning rate that better minimizes the cost function.\n",
        "    - If your model overfits, use other techniques to reduce overfitting. (We'll talk about this in later videos.) \n"
      ]
    },
    {
      "cell_type": "markdown",
      "metadata": {
        "collapsed": true,
        "id": "ARR6eZrJE1XX"
      },
      "source": [
        "## 7 - Test with your own image  ##\n",
        "\n",
        "You can use your own image and see the output of your model. To do that:\n",
        "    1. Click on \"File\" in the upper bar of this notebook, then click \"Open\" to go on your Coursera Hub.\n",
        "    2. Add your image to this Notebook's directory, in the \"images\" folder\n",
        "    3. Change your image's name in the following code\n",
        "    4. Run the code and check if the algorithm is right (1 = cat, 0 = non-cat)!"
      ]
    },
    {
      "cell_type": "code",
      "metadata": {
        "scrolled": false,
        "id": "AGW8lI_LE1XY",
        "outputId": "1aa342fd-5182-4fc6-a0f3-94ab47ecc4e6"
      },
      "source": [
        "my_image = \"img2.jpg\"   # change this to the name of your image file \n",
        "\n",
        "# We preprocess the image to fit your algorithm.\n",
        "fname = \"images/\" + my_image\n",
        "image = np.array(ndimage.imread(fname, flatten=False))\n",
        "my_image = scipy.misc.imresize(image, size=(num_px,num_px)).reshape((1, num_px*num_px*3)).T\n",
        "my_predicted_image = predict(d[\"w\"], d[\"b\"], my_image)\n",
        "\n",
        "plt.imshow(image)\n",
        "print(\"y = \" + str(np.squeeze(my_predicted_image)) + \", your algorithm predicts a \\\"\" + classes[int(np.squeeze(my_predicted_image)),].decode(\"utf-8\") +  \"\\\" picture.\")"
      ],
      "execution_count": null,
      "outputs": [
        {
          "name": "stdout",
          "output_type": "stream",
          "text": [
            "range(0, 1)\n",
            "y = 1.0, your algorithm predicts a \"cat\" picture.\n"
          ]
        },
        {
          "data": {
            "image/png": "[encoded data removed]",
            "text/plain": [
              "<matplotlib.figure.Figure at 0x118cd1eb8>"
            ]
          },
          "metadata": {},
          "output_type": "display_data"
        }
      ]
    },
    {
      "cell_type": "markdown",
      "metadata": {
        "id": "S2BxnJq8E1XY"
      },
      "source": [
        "<font color='blue'>\n",
        "**What to remember from this assignment:**\n",
        "1. Preprocessing the dataset is important.\n",
        "2. You implemented each function separately: initialize(), propagate(), optimize(). Then you built a model().\n",
        "3. Tuning the learning rate (which is an example of a \"hyperparameter\") can make a big difference to the algorithm. You will see more examples of this later in this course!"
      ]
    },
    {
      "cell_type": "markdown",
      "metadata": {
        "id": "4jCGNpVPE1XY"
      },
      "source": [
        "Finally, if you'd like, we invite you to try different things on this Notebook. Make sure you submit before trying anything. Once you submit, things you can play with include:\n",
        "    - Play with the learning rate and the number of iterations\n",
        "    - Try different initialization methods and compare the results\n",
        "    - Test other preprocessings (center the data, or divide each row by its standard deviation)"
      ]
    },
    {
      "cell_type": "markdown",
      "metadata": {
        "id": "SJE5IG7JE1XY"
      },
      "source": [
        "Bibliography:\n",
        "- http://www.wildml.com/2015/09/implementing-a-neural-network-from-scratch/\n",
        "- https://stats.stackexchange.com/questions/211436/why-do-we-normalize-images-by-subtracting-the-datasets-image-mean-and-not-the-c"
      ]
    },
    {
      "cell_type": "code",
      "metadata": {
        "collapsed": true,
        "id": "IEj9adMjE1XZ"
      },
      "source": [
        ""
      ],
      "execution_count": null,
      "outputs": []
    }
  ]
}